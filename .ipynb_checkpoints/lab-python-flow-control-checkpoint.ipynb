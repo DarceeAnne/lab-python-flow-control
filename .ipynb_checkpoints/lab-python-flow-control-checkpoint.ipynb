{
 "cells": [
  {
   "cell_type": "markdown",
   "id": "d3bfc191-8885-42ee-b0a0-bbab867c6f9f",
   "metadata": {
    "tags": []
   },
   "source": [
    "# Lab | Flow Control"
   ]
  },
  {
   "cell_type": "markdown",
   "id": "3851fcd1-cf98-4653-9c89-e003b7ec9400",
   "metadata": {},
   "source": [
    "## Exercise: Managing Customer Orders Optimized\n",
    "\n",
    "In the last lab, you were starting an online store that sells various products. To ensure smooth operations, you developed a program that manages customer orders and inventory.\n",
    "\n",
    "You did so without using flow control. Let's go a step further and improve this code.\n",
    "\n",
    "Follow the steps below to complete the exercise:\n",
    "\n",
    "1. Look at your code from the lab data structures, and improve repeated code with loops.\n",
    "\n",
    "2. Instead of asking the user to input the name of three products that a customer wants to order, do the following:\n",
    "    \n",
    "    a. Prompt the user to enter the name of a product that a customer wants to order.\n",
    "    \n",
    "    b. Add the product name to the \"customer_orders\" set.\n",
    "    \n",
    "    c. Ask the user if they want to add another product (yes/no).\n",
    "    \n",
    "    d. Continue the loop until the user does not want to add another product.\n",
    "\n",
    "3. Instead of updating the inventory by subtracting 1 from the quantity of each product, only do it for  the products that were ordered (those in \"customer_orders\")."
   ]
  },
  {
   "cell_type": "code",
   "execution_count": 1,
   "id": "21a6f934",
   "metadata": {},
   "outputs": [],
   "source": [
    "products=[\"t-shirt\", \"mug\", \"hat\", \"book\", \"keychain\"]"
   ]
  },
  {
   "cell_type": "code",
   "execution_count": 2,
   "id": "4adf1263",
   "metadata": {},
   "outputs": [],
   "source": [
    "inventory={}"
   ]
  },
  {
   "cell_type": "code",
   "execution_count": 3,
   "id": "e36c87f6",
   "metadata": {},
   "outputs": [
    {
     "name": "stdout",
     "output_type": "stream",
     "text": [
      "How many t-shirts are there (enter number)?52\n"
     ]
    }
   ],
   "source": [
    "t_shirt_inv=int(input(\"How many t-shirts are there (enter number)?\"))"
   ]
  },
  {
   "cell_type": "code",
   "execution_count": 4,
   "id": "ed609d33",
   "metadata": {},
   "outputs": [
    {
     "name": "stdout",
     "output_type": "stream",
     "text": [
      "How many mugs are there (enter number)?42\n"
     ]
    }
   ],
   "source": [
    "mug_inv=int(input(\"How many mugs are there (enter number)?\"))"
   ]
  },
  {
   "cell_type": "code",
   "execution_count": 5,
   "id": "fb5f1249",
   "metadata": {},
   "outputs": [
    {
     "name": "stdout",
     "output_type": "stream",
     "text": [
      "How many hats are there (enter number)?36\n"
     ]
    }
   ],
   "source": [
    "hat_inv=int(input(\"How many hats are there (enter number)?\"))"
   ]
  },
  {
   "cell_type": "code",
   "execution_count": 6,
   "id": "d8d8b459",
   "metadata": {},
   "outputs": [
    {
     "name": "stdout",
     "output_type": "stream",
     "text": [
      "How many books are there (enter number)?67\n"
     ]
    }
   ],
   "source": [
    "book_inv=int(input(\"How many books are there (enter number)?\"))"
   ]
  },
  {
   "cell_type": "code",
   "execution_count": 7,
   "id": "5345b27c",
   "metadata": {},
   "outputs": [
    {
     "name": "stdout",
     "output_type": "stream",
     "text": [
      "How many keychains are there (enter number)?78\n"
     ]
    }
   ],
   "source": [
    "keychain_inv=int(input(\"How many keychains are there (enter number)?\"))"
   ]
  },
  {
   "cell_type": "code",
   "execution_count": 8,
   "id": "cbbf89d5",
   "metadata": {},
   "outputs": [],
   "source": [
    "inventory.update({\"t-shirt\": t_shirt_inv, \"mug\": mug_inv, \"hat\":hat_inv,\"book\":book_inv,\"keychain\":keychain_inv})"
   ]
  },
  {
   "cell_type": "code",
   "execution_count": 9,
   "id": "b07f910b",
   "metadata": {},
   "outputs": [
    {
     "name": "stdout",
     "output_type": "stream",
     "text": [
      "{'t-shirt': 52, 'mug': 42, 'hat': 36, 'book': 67, 'keychain': 78}\n"
     ]
    }
   ],
   "source": [
    "print(inventory)"
   ]
  },
  {
   "cell_type": "code",
   "execution_count": 15,
   "id": "a9df8cb2",
   "metadata": {},
   "outputs": [
    {
     "name": "stdout",
     "output_type": "stream",
     "text": [
      "What would you like to order from the following list 't-shirt', 'mug', 'hat', 'book' or 'keychain?mug\n",
      "Would you like to order anything else? (yes/no)yes\n",
      "What would you like to order from the following list 't-shirt', 'mug', 'hat', 'book' or 'keychain?hat\n",
      "Would you like to order anything else? (yes/no)yes\n",
      "What would you like to order from the following list 't-shirt', 'mug', 'hat', 'book' or 'keychain?book\n",
      "Would you like to order anything else? (yes/no)no\n",
      "Your order: {'mug', 'hat', 'book'}\n"
     ]
    }
   ],
   "source": [
    "customer_order = set() # Initialize an empty set to store customer orders\n",
    "while True: # Loop indefinitely until break statement is encountered\n",
    "    customer_order_item=input(\"What would you like to order from the following list 't-shirt', 'mug', 'hat', 'book' or 'keychain?\" ).strip().lower()\n",
    "    customer_order.add(customer_order_item) # Add the customer's order to the set\n",
    "    \n",
    "    more_order = input(\"Would you like to order anything else? (yes/no)\" ).strip().lower()\n",
    "    if more_order != 'yes':  # Check if the user wants to order more\n",
    "        break  # Exit the loop if the user says no\n",
    "print(\"Your order:\", customer_order)"
   ]
  },
  {
   "cell_type": "code",
   "execution_count": 16,
   "id": "3b4da2a0",
   "metadata": {},
   "outputs": [
    {
     "name": "stdout",
     "output_type": "stream",
     "text": [
      "{'mug', 'hat', 'book'}\n"
     ]
    }
   ],
   "source": [
    "print(customer_order)"
   ]
  },
  {
   "cell_type": "code",
   "execution_count": 18,
   "id": "ec52bf10",
   "metadata": {},
   "outputs": [
    {
     "name": "stdout",
     "output_type": "stream",
     "text": [
      "Updated Inventory:\n",
      "{'t-shirt': 52, 'mug': 41, 'hat': 35, 'book': 66, 'keychain': 78}\n"
     ]
    }
   ],
   "source": [
    "for item in customer_order:\n",
    "    if item in inventory:\n",
    "        inventory[item] -= 1\n",
    "    else:\n",
    "        print(f\"Item '{item}' is not in inventory.\")\n",
    "\n",
    "print(\"Updated Inventory:\")\n",
    "print(inventory)"
   ]
  },
  {
   "cell_type": "code",
   "execution_count": null,
   "id": "1fa8c239",
   "metadata": {},
   "outputs": [],
   "source": []
  }
 ],
 "metadata": {
  "kernelspec": {
   "display_name": "Python 3 (ipykernel)",
   "language": "python",
   "name": "python3"
  },
  "language_info": {
   "codemirror_mode": {
    "name": "ipython",
    "version": 3
   },
   "file_extension": ".py",
   "mimetype": "text/x-python",
   "name": "python",
   "nbconvert_exporter": "python",
   "pygments_lexer": "ipython3",
   "version": "3.11.5"
  }
 },
 "nbformat": 4,
 "nbformat_minor": 5
}
